{
 "cells": [
  {
   "cell_type": "code",
   "execution_count": null,
   "id": "7f394149",
   "metadata": {},
   "outputs": [],
   "source": [
    "import MDAnalysis as mda"
   ]
  },
  {
   "cell_type": "code",
   "execution_count": null,
   "id": "c68f4708",
   "metadata": {},
   "outputs": [
    {
     "name": "stdout",
     "output_type": "stream",
     "text": [
      "✅ MDAnalysis Universe loaded successfully!\n",
      "   - Total Atoms: 29427\n",
      "   - Total Frames: 6776\n",
      "   - Simulation Time: 67.76 ns\n",
      "   - Analyzing from frame 3388 onwards (3388 frames).\n"
     ]
    },
    {
     "name": "stderr",
     "output_type": "stream",
     "text": [
      "/home/andy/miniforge3/envs/cuda/lib/python3.13/site-packages/MDAnalysis/topology/PDBParser.py:346: UserWarning: Unknown element EP found for some atoms. These have been given an empty element record. If needed they can be guessed using universe.guess_TopologyAttrs(context='default', to_guess=['elements']).\n",
      "  warnings.warn(wmsg)\n"
     ]
    }
   ],
   "source": [
    "# --- File Paths ---\n",
    "PDB_FILE = \"start_drudes.pdb\"\n",
    "DCD_FILE = \"FV_NVT.dcd\" \n",
    "\n",
    "# --- Load MDAnalysis Universe ---\n",
    "try:\n",
    "    u = mda.Universe(PDB_FILE, DCD_FILE)\n",
    "    print(\"✅ MDAnalysis Universe loaded successfully!\")\n",
    "    print(f\"   - Total Atoms: {u.atoms.n_atoms}\")\n",
    "    print(f\"   - Total Frames: {len(u.trajectory)}\")\n",
    "    print(f\"   - Simulation Time: {len(u.trajectory) * u.trajectory.dt / 1000:.2f} ns\")\n",
    "except Exception as e:\n",
    "    print(f\"❌ File loading failed: {e}\")\n"
   ]
  }
 ],
 "metadata": {
  "kernelspec": {
   "display_name": "cuda",
   "language": "python",
   "name": "python3"
  },
  "language_info": {
   "codemirror_mode": {
    "name": "ipython",
    "version": 3
   },
   "file_extension": ".py",
   "mimetype": "text/x-python",
   "name": "python",
   "nbconvert_exporter": "python",
   "pygments_lexer": "ipython3",
   "version": "3.13.9"
  }
 },
 "nbformat": 4,
 "nbformat_minor": 5
}
